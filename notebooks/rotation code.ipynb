{
 "cells": [
  {
   "cell_type": "code",
   "execution_count": 90,
   "metadata": {},
   "outputs": [],
   "source": [
    "import torch\n",
    "import numpy as np"
   ]
  },
  {
   "cell_type": "code",
   "execution_count": 65,
   "metadata": {},
   "outputs": [],
   "source": [
    "# batch*n\n",
    "def normalize_vector( v, return_mag =False):\n",
    "    batch=v.shape[0]\n",
    "    v_mag = torch.sqrt(v.pow(2).sum(1))# batch\n",
    "    v_mag = v_mag.view(batch,1).expand(batch,v.shape[1])\n",
    "    v = v/v_mag\n",
    "    if(return_mag==True):\n",
    "        return v, v_mag[:,0]\n",
    "    else:\n",
    "        return v\n",
    "\n",
    "def transform_matrix_torch(axisAngle):\n",
    "    \n",
    "    batch = axisAngle.shape[0]\n",
    "    batch,dim = axisAngle.shape\n",
    "    axis = axisAngle[:,0:3]\n",
    "    #axis_rotate = axisAngle[:,3:]\n",
    "    axis_norm = normalize_vector(axis)\n",
    "    #axis_rotate_norm = normalize_vector(axis_rotate)\n",
    "    b1 = axis_norm[:,0]\n",
    "    b2 = axis_norm[:,1]\n",
    "    b3 = axis_norm[:,2]\n",
    "    # Check for the specific input (0,0,1) and return identity matrix\n",
    "    identity_mask = (b1 == 0) & (b2 == 0) & (b3 == 1)\n",
    "    anti_identity_mask = (b1 == 0) & (b2 == 0) & (b3 == -1)\n",
    "    identity_matrix = torch.eye(3, device=axisAngle.device).unsqueeze(0).repeat(axisAngle.shape[0], 1, 1)\n",
    "    anti_identity_matrix = -identity_matrix\n",
    "    print(identity_mask,anti_identity_mask)\n",
    "    # Calculate matrix elements\n",
    "    m00 = b3 + (b2**2 * (-1 + b3)) / (-1 + torch.abs(b3)**2)\n",
    "    m01 = -(b1 * b2 * (-1 + b3)) / (-1 + torch.abs(b3)**2)\n",
    "    m02 = b1\n",
    "    \n",
    "    m10 = -(b1 * b2 * (-1 + b3)) / (-1 + torch.abs(b3)**2)\n",
    "    m11 = b3 + (b1**2 * (-1 + b3)) / (-1 + torch.abs(b3)**2)\n",
    "    m12 = b2\n",
    "    \n",
    "    m20 = -b1 \n",
    "    m21 = -b2\n",
    "    m22 = b3\n",
    "    \n",
    "    # Stack the results to form the output matrix of shape (batch_size, 3, 3)\n",
    "    output = torch.stack([\n",
    "        torch.stack([m00, m01, m02], dim=-1),\n",
    "        torch.stack([m10, m11, m12], dim=-1),\n",
    "        torch.stack([m20, m21, m22], dim=-1)\n",
    "    ], dim=1)\n",
    "    \n",
    "    # Replace the output with identity matrix where the input is (0,0,1)\n",
    "    output[identity_mask] = identity_matrix[identity_mask]\n",
    "    output[anti_identity_mask] = anti_identity_matrix[anti_identity_mask]\n",
    "    \n",
    "    return output\n"
   ]
  },
  {
   "cell_type": "code",
   "execution_count": 93,
   "metadata": {},
   "outputs": [
    {
     "name": "stdout",
     "output_type": "stream",
     "text": [
      "tensor([False,  True, False, False, False, False, False, False]) tensor([False, False,  True, False, False, False, False, False])\n"
     ]
    }
   ],
   "source": [
    "# Example usage:\n",
    "input_data_torch = torch.tensor([[1,2,3],[0,0,1],[0,0,-1],[1,0,0],[0,1,0],[1,1,0],[1,0,1],[0,1,1]])\n",
    "A=transform_matrix_torch(input_data_torch)[0]\n",
    "#print(transform_matrix_torch(input_data_torch))"
   ]
  },
  {
   "cell_type": "code",
   "execution_count": 80,
   "metadata": {},
   "outputs": [
    {
     "name": "stdout",
     "output_type": "stream",
     "text": [
      "tensor([False,  True,  True, False, False, False, False, False]) tensor([False, False, False, False, False, False, False, False])\n"
     ]
    }
   ],
   "source": [
    "rot = transform_matrix_torch(input_data_torch)"
   ]
  },
  {
   "cell_type": "code",
   "execution_count": 97,
   "metadata": {},
   "outputs": [
    {
     "name": "stdout",
     "output_type": "stream",
     "text": [
      "torch.Size([8, 3])\n"
     ]
    }
   ],
   "source": [
    "\n",
    "vectors = torch.tensor([0,np.sqrt(2)/2,np.sqrt(2)/2]).unsqueeze(0).repeat(8,1).to(torch.float32)\n",
    "print(vectors.shape)"
   ]
  },
  {
   "cell_type": "code",
   "execution_count": 98,
   "metadata": {},
   "outputs": [
    {
     "name": "stdout",
     "output_type": "stream",
     "text": [
      "tensor([[ 0.1329,  0.9729,  0.1890],\n",
      "        [ 0.0000,  0.7071,  0.7071],\n",
      "        [ 0.0000,  0.7071,  0.7071],\n",
      "        [ 0.7071,  0.7071,  0.0000],\n",
      "        [ 0.0000,  0.7071, -0.7071],\n",
      "        [ 0.1464,  0.8536, -0.5000],\n",
      "        [ 0.5000,  0.7071,  0.5000],\n",
      "        [ 0.0000,  1.0000,  0.0000]])\n"
     ]
    }
   ],
   "source": [
    "# Perform batch matrix-vector multiplication\n",
    "result = torch.bmm(rot, vectors.unsqueeze(-1)).squeeze(-1)\n",
    "print(result)"
   ]
  },
  {
   "cell_type": "code",
   "execution_count": 96,
   "metadata": {},
   "outputs": [
    {
     "name": "stdout",
     "output_type": "stream",
     "text": [
      "tensor([[[ 0.9604, -0.0793,  0.2673],\n",
      "         [-0.0793,  0.8414,  0.5345],\n",
      "         [-0.2673, -0.5345,  0.8018]],\n",
      "\n",
      "        [[ 1.0000,  0.0000,  0.0000],\n",
      "         [ 0.0000,  1.0000,  0.0000],\n",
      "         [ 0.0000,  0.0000,  1.0000]],\n",
      "\n",
      "        [[ 1.0000,  0.0000,  0.0000],\n",
      "         [ 0.0000,  1.0000,  0.0000],\n",
      "         [ 0.0000,  0.0000,  1.0000]],\n",
      "\n",
      "        [[ 0.0000, -0.0000,  1.0000],\n",
      "         [-0.0000,  1.0000,  0.0000],\n",
      "         [-1.0000, -0.0000,  0.0000]],\n",
      "\n",
      "        [[ 1.0000, -0.0000,  0.0000],\n",
      "         [-0.0000,  0.0000,  1.0000],\n",
      "         [-0.0000, -1.0000,  0.0000]],\n",
      "\n",
      "        [[ 0.5000, -0.5000,  0.7071],\n",
      "         [-0.5000,  0.5000,  0.7071],\n",
      "         [-0.7071, -0.7071,  0.0000]],\n",
      "\n",
      "        [[ 0.7071, -0.0000,  0.7071],\n",
      "         [-0.0000,  1.0000,  0.0000],\n",
      "         [-0.7071, -0.0000,  0.7071]],\n",
      "\n",
      "        [[ 1.0000, -0.0000,  0.0000],\n",
      "         [-0.0000,  0.7071,  0.7071],\n",
      "         [-0.0000, -0.7071,  0.7071]]])\n"
     ]
    }
   ],
   "source": [
    "print(rot)"
   ]
  },
  {
   "cell_type": "code",
   "execution_count": null,
   "metadata": {},
   "outputs": [],
   "source": [
    "a = {'name':'Adam','age':10}\n",
    "print('name' in a)"
   ]
  }
 ],
 "metadata": {
  "kernelspec": {
   "display_name": "Python 3",
   "language": "python",
   "name": "python3"
  },
  "language_info": {
   "codemirror_mode": {
    "name": "ipython",
    "version": 3
   },
   "file_extension": ".py",
   "mimetype": "text/x-python",
   "name": "python",
   "nbconvert_exporter": "python",
   "pygments_lexer": "ipython3",
   "version": "3.7.3"
  }
 },
 "nbformat": 4,
 "nbformat_minor": 2
}
