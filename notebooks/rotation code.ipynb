{
 "cells": [
  {
   "cell_type": "code",
   "execution_count": 167,
   "metadata": {},
   "outputs": [],
   "source": [
    "import torch\n",
    "import torch.nn.functional as F\n",
    "import numpy as np"
   ]
  },
  {
   "cell_type": "code",
   "execution_count": 65,
   "metadata": {},
   "outputs": [],
   "source": [
    "# batch*n\n",
    "def normalize_vector( v, return_mag =False):\n",
    "    batch=v.shape[0]\n",
    "    v_mag = torch.sqrt(v.pow(2).sum(1))# batch\n",
    "    v_mag = v_mag.view(batch,1).expand(batch,v.shape[1])\n",
    "    v = v/v_mag\n",
    "    if(return_mag==True):\n",
    "        return v, v_mag[:,0]\n",
    "    else:\n",
    "        return v\n",
    "\n",
    "def transform_matrix_torch(axisAngle):\n",
    "    \n",
    "    batch = axisAngle.shape[0]\n",
    "    batch,dim = axisAngle.shape\n",
    "    axis = axisAngle[:,0:3]\n",
    "    #axis_rotate = axisAngle[:,3:]\n",
    "    axis_norm = normalize_vector(axis)\n",
    "    #axis_rotate_norm = normalize_vector(axis_rotate)\n",
    "    b1 = axis_norm[:,0]\n",
    "    b2 = axis_norm[:,1]\n",
    "    b3 = axis_norm[:,2]\n",
    "    # Check for the specific input (0,0,1) and return identity matrix\n",
    "    identity_mask = (b1 == 0) & (b2 == 0) & (b3 == 1)\n",
    "    anti_identity_mask = (b1 == 0) & (b2 == 0) & (b3 == -1)\n",
    "    identity_matrix = torch.eye(3, device=axisAngle.device).unsqueeze(0).repeat(axisAngle.shape[0], 1, 1)\n",
    "    anti_identity_matrix = -identity_matrix\n",
    "    print(identity_mask,anti_identity_mask)\n",
    "    # Calculate matrix elements\n",
    "    m00 = b3 + (b2**2 * (-1 + b3)) / (-1 + torch.abs(b3)**2)\n",
    "    m01 = -(b1 * b2 * (-1 + b3)) / (-1 + torch.abs(b3)**2)\n",
    "    m02 = b1\n",
    "    \n",
    "    m10 = -(b1 * b2 * (-1 + b3)) / (-1 + torch.abs(b3)**2)\n",
    "    m11 = b3 + (b1**2 * (-1 + b3)) / (-1 + torch.abs(b3)**2)\n",
    "    m12 = b2\n",
    "    \n",
    "    m20 = -b1 \n",
    "    m21 = -b2\n",
    "    m22 = b3\n",
    "    \n",
    "    # Stack the results to form the output matrix of shape (batch_size, 3, 3)\n",
    "    output = torch.stack([\n",
    "        torch.stack([m00, m01, m02], dim=-1),\n",
    "        torch.stack([m10, m11, m12], dim=-1),\n",
    "        torch.stack([m20, m21, m22], dim=-1)\n",
    "    ], dim=1)\n",
    "    \n",
    "    # Replace the output with identity matrix where the input is (0,0,1)\n",
    "    output[identity_mask] = identity_matrix[identity_mask]\n",
    "    output[anti_identity_mask] = anti_identity_matrix[anti_identity_mask]\n",
    "    \n",
    "    return output\n"
   ]
  },
  {
   "cell_type": "code",
   "execution_count": 93,
   "metadata": {},
   "outputs": [
    {
     "name": "stdout",
     "output_type": "stream",
     "text": [
      "tensor([False,  True, False, False, False, False, False, False]) tensor([False, False,  True, False, False, False, False, False])\n"
     ]
    }
   ],
   "source": [
    "# Example usage:\n",
    "input_data_torch = torch.tensor([[1,2,3],[0,0,1],[0,0,-1],[1,0,0],[0,1,0],[1,1,0],[1,0,1],[0,1,1]])\n",
    "A=transform_matrix_torch(input_data_torch)[0]\n",
    "#print(transform_matrix_torch(input_data_torch))"
   ]
  },
  {
   "cell_type": "code",
   "execution_count": 80,
   "metadata": {},
   "outputs": [
    {
     "name": "stdout",
     "output_type": "stream",
     "text": [
      "tensor([False,  True,  True, False, False, False, False, False]) tensor([False, False, False, False, False, False, False, False])\n"
     ]
    }
   ],
   "source": [
    "rot = transform_matrix_torch(input_data_torch)"
   ]
  },
  {
   "cell_type": "code",
   "execution_count": 97,
   "metadata": {},
   "outputs": [
    {
     "name": "stdout",
     "output_type": "stream",
     "text": [
      "torch.Size([8, 3])\n"
     ]
    }
   ],
   "source": [
    "\n",
    "vectors = torch.tensor([0,np.sqrt(2)/2,np.sqrt(2)/2]).unsqueeze(0).repeat(8,1).to(torch.float32)\n",
    "print(vectors.shape)"
   ]
  },
  {
   "cell_type": "code",
   "execution_count": 98,
   "metadata": {},
   "outputs": [
    {
     "name": "stdout",
     "output_type": "stream",
     "text": [
      "tensor([[ 0.1329,  0.9729,  0.1890],\n",
      "        [ 0.0000,  0.7071,  0.7071],\n",
      "        [ 0.0000,  0.7071,  0.7071],\n",
      "        [ 0.7071,  0.7071,  0.0000],\n",
      "        [ 0.0000,  0.7071, -0.7071],\n",
      "        [ 0.1464,  0.8536, -0.5000],\n",
      "        [ 0.5000,  0.7071,  0.5000],\n",
      "        [ 0.0000,  1.0000,  0.0000]])\n"
     ]
    }
   ],
   "source": [
    "# Perform batch matrix-vector multiplication\n",
    "result = torch.bmm(rot, vectors.unsqueeze(-1)).squeeze(-1)\n",
    "print(result)"
   ]
  },
  {
   "cell_type": "code",
   "execution_count": 109,
   "metadata": {},
   "outputs": [
    {
     "name": "stdout",
     "output_type": "stream",
     "text": [
      "True\n"
     ]
    }
   ],
   "source": [
    "a = {'name':'Adam','age':10}\n",
    "print('name' in a)"
   ]
  },
  {
   "cell_type": "code",
   "execution_count": 105,
   "metadata": {},
   "outputs": [
    {
     "name": "stdout",
     "output_type": "stream",
     "text": [
      "torch.Size([8, 6])\n",
      "torch.Size([8, 3, 3])\n"
     ]
    }
   ],
   "source": [
    "vectors = torch.rand((8,6))\n",
    "print(vectors.shape)\n",
    "def s2s2_to_matrix(v1, v2=None):\n",
    "    \"\"\"\n",
    "    Normalize 2 3-vectors. Project second to orthogonal component.\n",
    "    Take cross product for third. Stack to form SO matrix.\n",
    "    \"\"\"\n",
    "    if v2 is None:\n",
    "        assert v1.shape[-1] == 6\n",
    "        v2 = v1[..., 3:]\n",
    "        v1 = v1[..., 0:3]\n",
    "    u1 = v1\n",
    "    e1 = u1 / u1.norm(p=2, dim=-1, keepdim=True).clamp(min=1E-5)\n",
    "    u2 = v2 - (e1 * v2).sum(-1, keepdim=True) * e1\n",
    "    e2 = u2 / u2.norm(p=2, dim=-1, keepdim=True).clamp(min=1E-5)\n",
    "    e3 = torch.cross(e1, e2)\n",
    "    return torch.cat([e1[..., None, :], e2[..., None, :], e3[..., None, :]], -2)\n",
    "print(s2s2_to_matrix(vectors).shape)"
   ]
  },
  {
   "cell_type": "code",
   "execution_count": 110,
   "metadata": {},
   "outputs": [
    {
     "data": {
      "text/plain": [
       "10"
      ]
     },
     "execution_count": 110,
     "metadata": {},
     "output_type": "execute_result"
    }
   ],
   "source": [
    "a.pop('age')"
   ]
  },
  {
   "cell_type": "code",
   "execution_count": 111,
   "metadata": {},
   "outputs": [
    {
     "name": "stdout",
     "output_type": "stream",
     "text": [
      "{'name': 'Adam'}\n"
     ]
    }
   ],
   "source": [
    "print(a)"
   ]
  },
  {
   "cell_type": "code",
   "execution_count": 117,
   "metadata": {},
   "outputs": [],
   "source": [
    "def rar_to_matrix(axis,axis_rotate=None):\n",
    "    batch_size, dim = axis.shape\n",
    "    device = axis.device\n",
    "    if axis_rotate is None:\n",
    "        assert dim == 5\n",
    "        axis_rotate = axis[:, 3:]\n",
    "        axisAngle = axis[:, 0:3]\n",
    "\n",
    "    # axis rotation\n",
    "    axis_norm = normalize_vector(axis)\n",
    "    b1 = axis_norm[:, 0]\n",
    "    b2 = axis_norm[:, 1]\n",
    "    b3 = axis_norm[:, 2]\n",
    "\n",
    "    # rotation around the axis\n",
    "    axis_rotate_norm = normalize_vector(axis_rotate)\n",
    "    a1 = axis_rotate_norm[:, 0]\n",
    "    a2 = axis_rotate_norm[:, 1]\n",
    "\n",
    "    # Check for the specific input (0,0,1) and return identity matrix\n",
    "    identity_mask = (b1 == 0) & (b2 == 0) & (b3 == 1)\n",
    "    anti_identity_mask = (b1 == 0) & (b2 == 0) & (b3 == -1)\n",
    "    identity_matrix = torch.eye(3, device=axis.device).unsqueeze(0).repeat(axis.shape[0], 1, 1)\n",
    "    anti_identity_matrix = -identity_matrix\n",
    "    # Calculate matrix elements\n",
    "    m00 = b3 + (b2 ** 2 * (-1 + b3)) / (-1 + torch.abs(b3) ** 2)\n",
    "    m01 = -(b1 * b2 * (-1 + b3)) / (-1 + torch.abs(b3) ** 2)\n",
    "    m02 = b1\n",
    "\n",
    "    m10 = -(b1 * b2 * (-1 + b3)) / (-1 + torch.abs(b3) ** 2)\n",
    "    m11 = b3 + (b1 ** 2 * (-1 + b3)) / (-1 + torch.abs(b3) ** 2)\n",
    "    m12 = b2\n",
    "\n",
    "    m20 = -b1\n",
    "    m21 = -b2\n",
    "    m22 = b3\n",
    "\n",
    "    # Stack the results to form the output matrix of shape (batch_size, 3, 3)\n",
    "    M1 = torch.stack([\n",
    "        torch.stack([m00, m01, m02], dim=-1),\n",
    "        torch.stack([m10, m11, m12], dim=-1),\n",
    "        torch.stack([m20, m21, m22], dim=-1)\n",
    "    ], dim=1)\n",
    "\n",
    "    # Replace the output with identity matrix where the input is (0,0,1)\n",
    "    M1[identity_mask] = identity_matrix[identity_mask]\n",
    "    M1[anti_identity_mask] = anti_identity_matrix[anti_identity_mask]\n",
    "\n",
    "    ma00 = a1\n",
    "    ma01 = a2\n",
    "    ma02 = torch.zeros(batch_size).to(device)\n",
    "    ma10 = -a2\n",
    "    ma11 = a1\n",
    "    ma12 = torch.zeros(batch_size).to(device)\n",
    "    ma20 = torch.zeros(batch_size).to(device)\n",
    "    ma21 = torch.zeros(batch_size).to(device)\n",
    "    ma22 = torch.ones(batch_size).to(device)\n",
    "\n",
    "    M2 = torch.stack([\n",
    "        torch.stack([ma00, ma01, ma02], dim=-1),\n",
    "        torch.stack([ma10, ma11, ma12], dim=-1),\n",
    "        torch.stack([ma20, ma21, ma22], dim=-1)\n",
    "    ], dim=1)\n",
    "\n",
    "    output = torch.bmm(M2,M1)\n",
    "\n",
    "    return output"
   ]
  },
  {
   "cell_type": "code",
   "execution_count": 185,
   "metadata": {},
   "outputs": [],
   "source": [
    "def rotate_and_translate_3D(volumes, axes_xy, translations):\n",
    "    # verified\n",
    "    assert len(volumes.shape) == 5, \"volumes tensor should be of size [B, C, D, H, W]\"\n",
    "    assert len(axes_xy.shape) == 3, \"axes_xy tensor should be of size [B, 3, 2]\"\n",
    "    assert len(translations.shape) == 2, \"translations tensor should be of size [B, 3]\"\n",
    "\n",
    "    device = volumes.device\n",
    "    # Get size of the input images\n",
    "    W = volumes.shape[-1]\n",
    "\n",
    "    axes_xyz = axes_xy\n",
    "\n",
    "    translations = translations / (W / 2)\n",
    "    translations = torch.zeros(translations.shape).to(device)\n",
    "\n",
    "    T = torch.cat([axes_xyz, translations.unsqueeze(2)], dim=2).to(device)\n",
    "\n",
    "    grid = affine_grid_3d(T, volumes.size(), align_corners=False).to(device)\n",
    "    # grid = F.affine_grid(T, volumes.size(), align_corners=False).to(device)\n",
    "\n",
    "    # Sample from original images\n",
    "    rotated_images = F.grid_sample(volumes, grid, mode='bilinear', align_corners=False)\n",
    "\n",
    "    return rotated_images\n",
    "\n",
    "def affine_grid_3d(theta, size, align_corners, device='cpu'):\n",
    "    B, C, D, H, W = size\n",
    "\n",
    "    base_grid = torch.zeros(B, D, H, W, 3, device=device)\n",
    "\n",
    "    if align_corners:\n",
    "        x = torch.linspace(-1, 1, W, device=device)\n",
    "        y = torch.linspace(-1, 1, H, device=device)\n",
    "        z = torch.linspace(-1, 1, D, device=device)\n",
    "    else:\n",
    "        x = torch.linspace(-1 + 1. / (W - 1), 1 - 1. / (W - 1), W, device=device)\n",
    "        y = torch.linspace(-1 + 1. / (H - 1), 1 - 1. / (H - 1), H, device=device)\n",
    "        z = torch.linspace(-1 + 1. / (D - 1), 1 - 1. / (D - 1), D, device=device)\n",
    "\n",
    "    x, y, z = torch.meshgrid(x, y, z)\n",
    "    base_grid[..., 0] = x.to(device)\n",
    "    base_grid[..., 1] = y.to(device)\n",
    "    base_grid[..., 2] = z.to(device)\n",
    "\n",
    "    grid = base_grid.view(B, -1, 3)\n",
    "    grid = torch.cat((grid, torch.ones(B, grid.shape[1], 1).to(device)), dim=2)\n",
    "\n",
    "    grid = torch.bmm(grid, theta.transpose(1, 2))\n",
    "    grid = grid.view(B, D, H, W, 3)\n",
    "    \n",
    "    return grid"
   ]
  },
  {
   "cell_type": "code",
   "execution_count": 273,
   "metadata": {},
   "outputs": [],
   "source": [
    "axis_1 = torch.tensor([0,1,1]).unsqueeze(0).repeat(2,1)\n",
    "axis_2 = torch.tensor([[0,1],[1,0]])"
   ]
  },
  {
   "cell_type": "code",
   "execution_count": 274,
   "metadata": {},
   "outputs": [
    {
     "name": "stdout",
     "output_type": "stream",
     "text": [
      "tensor([[ 0.0000,  0.7071,  0.7071],\n",
      "        [-1.0000,  0.0000,  0.0000],\n",
      "        [ 0.0000, -0.7071,  0.7071]])\n",
      "tensor(1.1842e-15)\n"
     ]
    }
   ],
   "source": [
    "matrix=rar_to_matrix(axis_1,axis_2)\n",
    "print(matrix[0])\n",
    "R_diff=torch.bmm(matrix,torch.transpose(torch.flip(matrix,dims=(0,)),1,2))\n",
    "regularization = torch.FloatTensor([0,0,1]).unsqueeze(0).expand(2,-1)\n",
    "loss_R1=F.mse_loss(R_diff[:,-1],regularization)\n",
    "print(loss_R1)"
   ]
  },
  {
   "cell_type": "code",
   "execution_count": 275,
   "metadata": {},
   "outputs": [],
   "source": [
    "import mrcfile\n",
    "volume_path='/net/jiang/scratch/li3221/simmicro/10340-tau/emd_10512.map'\n",
    "with mrcfile.open(volume_path) as mrc:\n",
    "    volume=mrc.data\n",
    "volumes=torch.tensor(volume).unsqueeze(0).unsqueeze(0).repeat(2,1,1,1,1)"
   ]
  },
  {
   "cell_type": "code",
   "execution_count": 276,
   "metadata": {},
   "outputs": [
    {
     "name": "stdout",
     "output_type": "stream",
     "text": [
      "torch.Size([2, 1, 330, 330, 330])\n"
     ]
    }
   ],
   "source": [
    "print(volumes.shape)"
   ]
  },
  {
   "cell_type": "code",
   "execution_count": 277,
   "metadata": {},
   "outputs": [],
   "source": [
    "volumes2 = rotate_and_translate_3D(volumes,matrix,torch.rand(2,3))"
   ]
  },
  {
   "cell_type": "code",
   "execution_count": 278,
   "metadata": {},
   "outputs": [],
   "source": [
    "import matplotlib.pyplot as plt"
   ]
  },
  {
   "cell_type": "code",
   "execution_count": 279,
   "metadata": {},
   "outputs": [
    {
     "data": {
      "text/plain": [
       "Text(0.5, 1.0, 'volume2')"
      ]
     },
     "execution_count": 279,
     "metadata": {},
     "output_type": "execute_result"
    },
    {
     "data": {
      "image/png": "[encoded data removed]",
      "text/plain": [
       "<Figure size 720x1440 with 2 Axes>"
      ]
     },
     "metadata": {
      "needs_background": "light"
     },
     "output_type": "display_data"
    }
   ],
   "source": [
    "fig, axs = plt.subplots(ncols=2, squeeze=False, figsize=(10,20))\n",
    "axs[0][0].imshow(volumes[0,0].mean(0),cmap='gray')\n",
    "axs[0][0].set_title('volume1',size=10)\n",
    "axs[0][1].imshow(volumes2[0,0].mean(0),cmap='gray')\n",
    "axs[0][1].set_title('volume2',size=10)"
   ]
  },
  {
   "cell_type": "code",
   "execution_count": null,
   "metadata": {},
   "outputs": [],
   "source": []
  },
  {
   "cell_type": "code",
   "execution_count": null,
   "metadata": {},
   "outputs": [],
   "source": []
  }
 ],
 "metadata": {
  "kernelspec": {
   "display_name": "Python 3",
   "language": "python",
   "name": "python3"
  },
  "language_info": {
   "codemirror_mode": {
    "name": "ipython",
    "version": 3
   },
   "file_extension": ".py",
   "mimetype": "text/x-python",
   "name": "python",
   "nbconvert_exporter": "python",
   "pygments_lexer": "ipython3",
   "version": "3.7.3"
  }
 },
 "nbformat": 4,
 "nbformat_minor": 2
}
